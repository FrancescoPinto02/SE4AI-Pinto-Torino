{
 "cells": [
  {
   "metadata": {},
   "cell_type": "markdown",
   "source": "# Explorative Data Analysis",
   "id": "aefff725f208dd9c"
  },
  {
   "metadata": {},
   "cell_type": "markdown",
   "source": "## 1. Caricamento Dati",
   "id": "4c994e14e50497b6"
  },
  {
   "cell_type": "code",
   "id": "initial_id",
   "metadata": {
    "collapsed": true,
    "ExecuteTime": {
     "end_time": "2025-05-06T19:16:55.189018Z",
     "start_time": "2025-05-06T19:16:54.164437Z"
    }
   },
   "source": [
    "import pandas as pd\n",
    "\n",
    "games = pd.read_csv(\"../data/raw/games.csv\")\n",
    "reviews = pd.read_csv(\"../data/raw/reviews.csv\")"
   ],
   "outputs": [],
   "execution_count": 4
  },
  {
   "metadata": {},
   "cell_type": "markdown",
   "source": [
    "## 2. Overview Generale\n",
    "### 2.1 Games"
   ],
   "id": "7a84b430b2eb955d"
  },
  {
   "metadata": {
    "ExecuteTime": {
     "end_time": "2025-05-06T19:18:51.870048Z",
     "start_time": "2025-05-06T19:18:51.846782Z"
    }
   },
   "cell_type": "code",
   "source": [
    "games.info()\n",
    "games.describe()"
   ],
   "id": "22043253b668605f",
   "outputs": [
    {
     "name": "stdout",
     "output_type": "stream",
     "text": [
      "<class 'pandas.core.frame.DataFrame'>\n",
      "RangeIndex: 3044 entries, 0 to 3043\n",
      "Data columns (total 20 columns):\n",
      " #   Column          Non-Null Count  Dtype  \n",
      "---  ------          --------------  -----  \n",
      " 0   _id             3044 non-null   object \n",
      " 1   title           3044 non-null   object \n",
      " 2   releaseDate     3044 non-null   object \n",
      " 3   rating          3044 non-null   object \n",
      " 4   genre           3044 non-null   object \n",
      " 5   developers      3044 non-null   object \n",
      " 6   publishers      3044 non-null   object \n",
      " 7   themes          3044 non-null   object \n",
      " 8   platforms       3044 non-null   object \n",
      " 9   metaScore       3044 non-null   float64\n",
      " 10  metaScoreCount  3044 non-null   float64\n",
      " 11  description     3044 non-null   object \n",
      " 12  storyline       3044 non-null   object \n",
      " 13  summary         3044 non-null   object \n",
      " 14  cover           3044 non-null   object \n",
      " 15  video           3044 non-null   object \n",
      " 16  userScore       3044 non-null   float64\n",
      " 17  reviewCount     3044 non-null   int64  \n",
      " 18  screenshots     3044 non-null   object \n",
      " 19  _class          3044 non-null   object \n",
      "dtypes: float64(3), int64(1), object(16)\n",
      "memory usage: 475.8+ KB\n"
     ]
    },
    {
     "data": {
      "text/plain": [
       "         metaScore  metaScoreCount    userScore  reviewCount\n",
       "count  3044.000000     3044.000000  3044.000000  3044.000000\n",
       "mean     77.109067       47.593955    70.214849    50.622536\n",
       "std      10.711092       24.424686    16.339114    97.222839\n",
       "min      17.000000       10.000000     3.000000     5.000000\n",
       "25%      72.000000       28.000000    62.000000     9.000000\n",
       "50%      79.000000       45.000000    73.000000    18.000000\n",
       "75%      84.000000       63.000000    82.000000    46.000000\n",
       "max      99.000000      150.000000   100.000000  1170.000000"
      ],
      "text/html": [
       "<div>\n",
       "<style scoped>\n",
       "    .dataframe tbody tr th:only-of-type {\n",
       "        vertical-align: middle;\n",
       "    }\n",
       "\n",
       "    .dataframe tbody tr th {\n",
       "        vertical-align: top;\n",
       "    }\n",
       "\n",
       "    .dataframe thead th {\n",
       "        text-align: right;\n",
       "    }\n",
       "</style>\n",
       "<table border=\"1\" class=\"dataframe\">\n",
       "  <thead>\n",
       "    <tr style=\"text-align: right;\">\n",
       "      <th></th>\n",
       "      <th>metaScore</th>\n",
       "      <th>metaScoreCount</th>\n",
       "      <th>userScore</th>\n",
       "      <th>reviewCount</th>\n",
       "    </tr>\n",
       "  </thead>\n",
       "  <tbody>\n",
       "    <tr>\n",
       "      <th>count</th>\n",
       "      <td>3044.000000</td>\n",
       "      <td>3044.000000</td>\n",
       "      <td>3044.000000</td>\n",
       "      <td>3044.000000</td>\n",
       "    </tr>\n",
       "    <tr>\n",
       "      <th>mean</th>\n",
       "      <td>77.109067</td>\n",
       "      <td>47.593955</td>\n",
       "      <td>70.214849</td>\n",
       "      <td>50.622536</td>\n",
       "    </tr>\n",
       "    <tr>\n",
       "      <th>std</th>\n",
       "      <td>10.711092</td>\n",
       "      <td>24.424686</td>\n",
       "      <td>16.339114</td>\n",
       "      <td>97.222839</td>\n",
       "    </tr>\n",
       "    <tr>\n",
       "      <th>min</th>\n",
       "      <td>17.000000</td>\n",
       "      <td>10.000000</td>\n",
       "      <td>3.000000</td>\n",
       "      <td>5.000000</td>\n",
       "    </tr>\n",
       "    <tr>\n",
       "      <th>25%</th>\n",
       "      <td>72.000000</td>\n",
       "      <td>28.000000</td>\n",
       "      <td>62.000000</td>\n",
       "      <td>9.000000</td>\n",
       "    </tr>\n",
       "    <tr>\n",
       "      <th>50%</th>\n",
       "      <td>79.000000</td>\n",
       "      <td>45.000000</td>\n",
       "      <td>73.000000</td>\n",
       "      <td>18.000000</td>\n",
       "    </tr>\n",
       "    <tr>\n",
       "      <th>75%</th>\n",
       "      <td>84.000000</td>\n",
       "      <td>63.000000</td>\n",
       "      <td>82.000000</td>\n",
       "      <td>46.000000</td>\n",
       "    </tr>\n",
       "    <tr>\n",
       "      <th>max</th>\n",
       "      <td>99.000000</td>\n",
       "      <td>150.000000</td>\n",
       "      <td>100.000000</td>\n",
       "      <td>1170.000000</td>\n",
       "    </tr>\n",
       "  </tbody>\n",
       "</table>\n",
       "</div>"
      ]
     },
     "execution_count": 7,
     "metadata": {},
     "output_type": "execute_result"
    }
   ],
   "execution_count": 7
  },
  {
   "metadata": {},
   "cell_type": "markdown",
   "source": "### 2.2 Reviews",
   "id": "f5d1ae8b2deb64de"
  },
  {
   "metadata": {
    "ExecuteTime": {
     "end_time": "2025-05-06T19:18:10.638431Z",
     "start_time": "2025-05-06T19:18:10.590191Z"
    }
   },
   "cell_type": "code",
   "source": [
    "reviews.info()\n",
    "reviews.describe()"
   ],
   "id": "f23e2f940bc56b95",
   "outputs": [
    {
     "name": "stdout",
     "output_type": "stream",
     "text": [
      "<class 'pandas.core.frame.DataFrame'>\n",
      "RangeIndex: 154095 entries, 0 to 154094\n",
      "Data columns (total 8 columns):\n",
      " #   Column  Non-Null Count   Dtype \n",
      "---  ------  --------------   ----- \n",
      " 0   _id     154095 non-null  object\n",
      " 1   author  154095 non-null  object\n",
      " 2   text    154095 non-null  object\n",
      " 3   score   154095 non-null  int64 \n",
      " 4   date    154095 non-null  object\n",
      " 5   gameId  154095 non-null  object\n",
      " 6   userId  154094 non-null  object\n",
      " 7   _class  154095 non-null  object\n",
      "dtypes: int64(1), object(7)\n",
      "memory usage: 9.4+ MB\n"
     ]
    },
    {
     "data": {
      "text/plain": [
       "               score\n",
       "count  154095.000000\n",
       "mean       71.032285\n",
       "std        31.651278\n",
       "min         0.000000\n",
       "25%        60.000000\n",
       "50%        80.000000\n",
       "75%       100.000000\n",
       "max       100.000000"
      ],
      "text/html": [
       "<div>\n",
       "<style scoped>\n",
       "    .dataframe tbody tr th:only-of-type {\n",
       "        vertical-align: middle;\n",
       "    }\n",
       "\n",
       "    .dataframe tbody tr th {\n",
       "        vertical-align: top;\n",
       "    }\n",
       "\n",
       "    .dataframe thead th {\n",
       "        text-align: right;\n",
       "    }\n",
       "</style>\n",
       "<table border=\"1\" class=\"dataframe\">\n",
       "  <thead>\n",
       "    <tr style=\"text-align: right;\">\n",
       "      <th></th>\n",
       "      <th>score</th>\n",
       "    </tr>\n",
       "  </thead>\n",
       "  <tbody>\n",
       "    <tr>\n",
       "      <th>count</th>\n",
       "      <td>154095.000000</td>\n",
       "    </tr>\n",
       "    <tr>\n",
       "      <th>mean</th>\n",
       "      <td>71.032285</td>\n",
       "    </tr>\n",
       "    <tr>\n",
       "      <th>std</th>\n",
       "      <td>31.651278</td>\n",
       "    </tr>\n",
       "    <tr>\n",
       "      <th>min</th>\n",
       "      <td>0.000000</td>\n",
       "    </tr>\n",
       "    <tr>\n",
       "      <th>25%</th>\n",
       "      <td>60.000000</td>\n",
       "    </tr>\n",
       "    <tr>\n",
       "      <th>50%</th>\n",
       "      <td>80.000000</td>\n",
       "    </tr>\n",
       "    <tr>\n",
       "      <th>75%</th>\n",
       "      <td>100.000000</td>\n",
       "    </tr>\n",
       "    <tr>\n",
       "      <th>max</th>\n",
       "      <td>100.000000</td>\n",
       "    </tr>\n",
       "  </tbody>\n",
       "</table>\n",
       "</div>"
      ]
     },
     "execution_count": 6,
     "metadata": {},
     "output_type": "execute_result"
    }
   ],
   "execution_count": 6
  }
 ],
 "metadata": {
  "kernelspec": {
   "display_name": "Python 3",
   "language": "python",
   "name": "python3"
  },
  "language_info": {
   "codemirror_mode": {
    "name": "ipython",
    "version": 2
   },
   "file_extension": ".py",
   "mimetype": "text/x-python",
   "name": "python",
   "nbconvert_exporter": "python",
   "pygments_lexer": "ipython2",
   "version": "2.7.6"
  }
 },
 "nbformat": 4,
 "nbformat_minor": 5
}
